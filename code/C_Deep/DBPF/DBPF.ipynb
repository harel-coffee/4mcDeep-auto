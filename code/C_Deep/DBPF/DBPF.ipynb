{
 "cells": [
  {
   "cell_type": "code",
   "execution_count": 1,
   "metadata": {},
   "outputs": [
    {
     "name": "stdout",
     "output_type": "stream",
     "text": [
      "[['A' 'C' 'G' ... 'T' 'T' 'T']\n",
      " ['A' 'C' 'T' ... 'C' 'G' 'C']\n",
      " ['T' 'G' 'G' ... 'G' 'A' 'T']\n",
      " ...\n",
      " ['C' 'T' 'T' ... 'C' 'G' 'C']\n",
      " ['T' 'C' 'T' ... 'T' 'A' 'A']\n",
      " ['A' 'A' 'T' ... 'A' 'C' 'G']]\n",
      "(17808, 200)\n"
     ]
    }
   ],
   "source": [
    "import pandas as pd\n",
    "import numpy as np\n",
    "import itertools\n",
    "import sys\n",
    "\n",
    "def read_fasta_file():\n",
    "    '''\n",
    "    used for load fasta data and transformd into numpy.array format\n",
    "    '''\n",
    "    fh = open('seq33.txt', 'r')\n",
    "    seq = []\n",
    "    for line in fh:\n",
    "        if line.startswith('>'):\n",
    "            continue\n",
    "        else:\n",
    "            seq.append(line.replace('\\n', '').replace('\\r', ''))\n",
    "    fh.close()\n",
    "    matrix_data = np.array([list(e) for e in seq])\n",
    "    print(matrix_data)\n",
    "    return matrix_data\n",
    "\n",
    "def fetch_singleline_features_withoutN(sequence):\n",
    "    alphabet=\"ACGT\"\n",
    "    k_num=2\n",
    "    two_sequence=[]\n",
    "    for index,data in enumerate(sequence):\n",
    "        if index <(len(sequence)-k_num+1):\n",
    "            two_sequence.append(\"\".join(sequence[index:(index+k_num)]))\n",
    "    parameter=[e for e in itertools.product([0,1],repeat=4)]\n",
    "    record=[0 for x in range(int(pow(4,k_num)))]\n",
    "    matrix=[\"\".join(e) for e in itertools.product(alphabet, repeat=k_num)] # AA AU AC AG UU UC ...\n",
    "    final=[]\n",
    "    for index,data in enumerate(two_sequence):\n",
    "        if data in matrix:\n",
    "            final.extend(parameter[matrix.index(data)])\n",
    "            record[matrix.index(data)]+=1\n",
    "            final.append(record[matrix.index(data)]*1.0/(index+1))\n",
    "    return final\n",
    "\n",
    "matrix_data=read_fasta_file()\n",
    "features_data=[]\n",
    "for index,sequence in enumerate(matrix_data):\n",
    "    features_data.append(fetch_singleline_features_withoutN(sequence))\n",
    "print(np.array(features_data).shape)    \n",
    "pd.DataFrame(features_data).to_csv('X_DBPF.csv',header=None,index=False)"
   ]
  },
  {
   "cell_type": "code",
   "execution_count": null,
   "metadata": {},
   "outputs": [],
   "source": []
  }
 ],
 "metadata": {
  "kernelspec": {
   "display_name": "Python 3",
   "language": "python",
   "name": "python3"
  },
  "language_info": {
   "codemirror_mode": {
    "name": "ipython",
    "version": 3
   },
   "file_extension": ".py",
   "mimetype": "text/x-python",
   "name": "python",
   "nbconvert_exporter": "python",
   "pygments_lexer": "ipython3",
   "version": "3.7.3"
  }
 },
 "nbformat": 4,
 "nbformat_minor": 2
}
