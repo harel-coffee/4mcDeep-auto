{
 "cells": [
  {
   "cell_type": "code",
   "execution_count": 1,
   "metadata": {},
   "outputs": [
    {
     "name": "stdout",
     "output_type": "stream",
     "text": [
      "(13285, 34)\n"
     ]
    }
   ],
   "source": [
    "import numpy as np\n",
    "import pandas as pd\n",
    "import sys\n",
    "import math\n",
    "import itertools\n",
    "\n",
    "outputname='MMI.csv'\n",
    "#read_fasta_file\n",
    "sequence=open('seq33.txt', 'r')\n",
    "seq=[]\n",
    "for line in sequence:\n",
    "    if line.startswith(\">\"):\n",
    "        continue\n",
    "    else:\n",
    "        seq.append(line.replace('\\r','').replace('\\n',''))\n",
    "\n",
    "chars = ['A', 'C', 'G', 'T']\n",
    "one_char=[''.join(x) for x in itertools.combinations_with_replacement(chars, 1)]\n",
    "two_chars = [''.join(x) for x in itertools.combinations_with_replacement(chars, 2)]\n",
    "three_chars = [''.join(x) for x in itertools.combinations_with_replacement(chars, 3)]\n",
    "results=[]\n",
    "for line in seq:\n",
    "    one = [0] * len(one_char)\n",
    "    two_combin = [0] * len(two_chars)\n",
    "    three_combin = [0] * len(three_chars)\n",
    "    frequency_one_nolamdon=[0]*len(one_char)\n",
    "    frequency_one = [0] * len(one_char)\n",
    "    frequency_two_combin = [0] * len(three_chars)\n",
    "    three_combin = [0] * len(three_chars)\n",
    "    I_two = [0] * len(two_chars)\n",
    "    I_three = [0] * len(three_chars)\n",
    "    I_whole = []\n",
    "    lamda=0.001\n",
    "    for index in range(len(line)):\n",
    "        if line[index] in one_char:\n",
    "            one[one_char.index(line[index])] += 1\n",
    "        if line[index:index+2] in two_chars :\n",
    "            two_combin[two_chars.index(line[index:index+2])] += 1\n",
    "        if line[index:index+2] not in two_chars and line[index:index+2][::-1] in two_chars :\n",
    "            two_combin[two_chars.index(line[index:index + 2][::-1])] += 1\n",
    "        if line[index:index+3]  in three_chars:\n",
    "            three_combin[three_chars.index(line[index:index+3])] +=1\n",
    "        if line[index:index+3]  not in three_chars and index<len(line)-2:\n",
    "            list=[''.join(x) for x in itertools.permutations(line[index:index+3])]\n",
    "            for e in list:\n",
    "                if e in three_chars:\n",
    "                    three_combin[three_chars.index(e)] +=1\n",
    "                    break\n",
    "    frequency_one_nolamdon = [e  / float(sum(one)) for e in one]\n",
    "    frequency_one = [(e+lamda)/float(sum(one)+lamda) for e in one]\n",
    "    frequency_two_combin = [(e+lamda) / float(sum(two_combin)+lamda) for e in two_combin]\n",
    "    frequency_three_combin = [(e+lamda) / float(sum(three_combin)+lamda) for e in three_combin]\n",
    "    for two_chars_index in range(len(two_chars)):\n",
    "        I_two[two_chars_index] = frequency_two_combin[two_chars_index]*np.log(frequency_two_combin[two_chars_index]/(frequency_one[one_char.index(two_chars[two_chars_index][0])]*frequency_one[one_char.index(two_chars[two_chars_index][1])]))\n",
    "    for three_chars_index in range(len(three_chars)):\n",
    "        first_expression = frequency_two_combin[two_chars.index(three_chars[three_chars_index][:2])]*math.log(frequency_two_combin[two_chars.index(three_chars[three_chars_index][:2])]/(frequency_one[one_char.index(three_chars[three_chars_index][0])]*frequency_one[one_char.index(three_chars[three_chars_index][1])]))\n",
    "        second_expression = (frequency_two_combin[two_chars.index(three_chars[three_chars_index][0]+three_chars[three_chars_index][2])]/frequency_one[one_char.index(three_chars[three_chars_index][2])])*math.log(frequency_two_combin[two_chars.index(three_chars[three_chars_index][0]+three_chars[three_chars_index][2])]/frequency_one[one_char.index(three_chars[three_chars_index][2])])\n",
    "        third_expression = (frequency_three_combin[three_chars_index]/frequency_two_combin[two_chars.index(three_chars[three_chars_index][1:])])*math.log(frequency_three_combin[three_chars_index]/frequency_two_combin[two_chars.index(three_chars[three_chars_index][1:])])\n",
    "        #I_three[three_chars_index] = (frequency_two_combin[two_chars.index(three_chars[three_chars_index][:2])]*math.log(frequency_two_combin[two_chars.index(three_chars[three_chars_index][:2])]/(frequency_one[one_char.index(three_chars[three_chars_index][0])]*frequency_one[one_char.index(three_chars[three_chars_index][1])]))+\n",
    "        #(frequency_two_combin[two_chars.index(three_chars[three_chars_index][0]+three_chars[three_chars_index][2])]/frequency_one[one_char.index(three_chars[three_chars_index][2])])*math.log(frequency_two_combin[two_chars.index(three_chars[three_chars_index][0]+three_chars[three_chars_index][2])]/frequency_one[one_char.index(three_chars[three_chars_index][2])])-\n",
    "        #(frequency_three_combin[three_chars_index]/frequency_two_combin[two_chars.index(three_chars[three_chars_index][1:])])*math.log(frequency_three_combin[three_chars_index]/frequency_two_combin[two_chars.index(three_chars[three_chars_index][1:])]))\n",
    "        I_three[three_chars_index] = first_expression + second_expression - third_expression\n",
    "    I_whole.extend(I_three)\n",
    "    I_whole.extend(I_two)\n",
    "    I_whole.extend(frequency_one_nolamdon)\n",
    "    results.append([round(e,8) for e in I_whole])\n",
    "print(np.array(results).shape)\n",
    "pd.DataFrame(results).to_csv('X_MMI.csv', header=None, index=None)\n",
    "sequence.close()\n"
   ]
  }
 ],
 "metadata": {
  "kernelspec": {
   "display_name": "Python 3",
   "language": "python",
   "name": "python3"
  },
  "language_info": {
   "codemirror_mode": {
    "name": "ipython",
    "version": 3
   },
   "file_extension": ".py",
   "mimetype": "text/x-python",
   "name": "python",
   "nbconvert_exporter": "python",
   "pygments_lexer": "ipython3",
   "version": "3.7.3"
  }
 },
 "nbformat": 4,
 "nbformat_minor": 2
}
