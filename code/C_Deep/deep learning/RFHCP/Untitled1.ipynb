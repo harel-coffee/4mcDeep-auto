{
 "cells": [
  {
   "cell_type": "code",
   "execution_count": 1,
   "metadata": {},
   "outputs": [
    {
     "name": "stderr",
     "output_type": "stream",
     "text": [
      "Using TensorFlow backend.\n"
     ]
    }
   ],
   "source": [
    "#softmax: 在多分类中常用的激活函数，是基于逻辑回归的。\n",
    "#softplus：softplus(x)=log(1+e^x)，近似生物神经激活函数，最近出现的。\n",
    "#Relu：近似生物神经激活函数，最近出现的。\n",
    "#tanh：双曲正切激活函数，也是很常用的。\n",
    "#sigmoid：S型曲线激活函数，最常用的。\n",
    "#hard_sigmoid：基于S型激活函数。\n",
    "#linear：线性激活函数，最简单的\n",
    "\n",
    "import pandas as pd\n",
    "import keras\n",
    "from keras.datasets import mnist\n",
    "from keras.models import Sequential\n",
    "from keras.layers.core import Dense, Dropout, Activation\n",
    "from keras.optimizers import SGD, Adam, RMSprop\n",
    "from keras.utils import np_utils\n",
    "import matplotlib.pyplot as plt\n",
    "\n",
    "import matplotlib.pyplot as plt \n",
    "from matplotlib.backends.backend_pdf import PdfPages\n",
    "\n",
    "class LossHistory(keras.callbacks.Callback):\n",
    "    def on_train_begin(self, logs={}):\n",
    "        self.losses = {'batch':[], 'epoch':[]}\n",
    "        self.accuracy = {'batch':[], 'epoch':[]}\n",
    "        self.val_loss = {'batch':[], 'epoch':[]}\n",
    "        self.val_acc = {'batch':[], 'epoch':[]}\n",
    "\n",
    "    def on_batch_end(self, batch, logs={}):\n",
    "        self.losses['batch'].append(logs.get('loss'))\n",
    "        self.accuracy['batch'].append(logs.get('acc'))\n",
    "        self.val_loss['batch'].append(logs.get('val_loss'))\n",
    "        self.val_acc['batch'].append(logs.get('val_acc'))\n",
    "\n",
    "    def on_epoch_end(self, batch, logs={}):\n",
    "        self.losses['epoch'].append(logs.get('loss'))\n",
    "        self.accuracy['epoch'].append(logs.get('acc'))\n",
    "        self.val_loss['epoch'].append(logs.get('val_loss'))\n",
    "        self.val_acc['epoch'].append(logs.get('val_acc'))\n",
    "\n",
    "    def loss_plot(self, loss_type):\n",
    "        iters = range(len(self.losses[loss_type]))\n",
    "        pdf = PdfPages('RFHCP.pdf')\n",
    "\n",
    "        plt.figure()\n",
    "\n",
    "        plt.rcParams['figure.dpi'] = 350\n",
    "\n",
    "     # acc\n",
    "        plt.plot(iters, self.accuracy[loss_type], 'r', label='train acc')\n",
    "        # loss\n",
    "        plt.plot(iters, self.losses[loss_type], 'g', label='train loss')\n",
    "        if loss_type == 'epoch':\n",
    "            # val_acc\n",
    "            plt.plot(iters, self.val_acc[loss_type], 'b', label='val acc')\n",
    "            # val_loss\n",
    "            plt.plot(iters, self.val_loss[loss_type], 'k', label='val loss')\n",
    "        plt.grid(True)\n",
    "        plt.xlabel(loss_type)\n",
    "        plt.ylabel('acc-loss')\n",
    "        plt.legend(loc=\"center right\")\n",
    "        plt.title('Acc-loss curve of AD_RFHCP')\n",
    "        pdf.savefig()\n",
    "        plt.close()\n",
    "        pdf.close()\n",
    "        plt.show()\n",
    "history = LossHistory()"
   ]
  },
  {
   "cell_type": "code",
   "execution_count": 2,
   "metadata": {},
   "outputs": [],
   "source": [
    "import pandas as pd\n",
    "import numpy as np\n",
    "\n",
    "t_x=pd.read_csv('X.csv', header=None, index_col=None)\n",
    "t_y=pd.read_csv('Y.csv', header=None, index_col=None)\n",
    "\n",
    "xx=t_x.values\n",
    "\n",
    "xx_y=t_y.values\n",
    "\n",
    "\n",
    "xx = np.expand_dims(xx, axis=2)\n",
    "#xx_y = np.expand_dims(xx_y, axis=2)"
   ]
  },
  {
   "cell_type": "code",
   "execution_count": 3,
   "metadata": {},
   "outputs": [
    {
     "data": {
      "text/plain": [
       "(17808, 164, 1)"
      ]
     },
     "execution_count": 3,
     "metadata": {},
     "output_type": "execute_result"
    }
   ],
   "source": [
    "xx.shape"
   ]
  },
  {
   "cell_type": "code",
   "execution_count": 4,
   "metadata": {
    "scrolled": true
   },
   "outputs": [
    {
     "name": "stdout",
     "output_type": "stream",
     "text": [
      "(8725, 164, 1) (5343, 164, 1) (3740, 164, 1)\n",
      "WARNING:tensorflow:From D:\\Anaconda3\\lib\\site-packages\\tensorflow\\python\\framework\\op_def_library.py:263: colocate_with (from tensorflow.python.framework.ops) is deprecated and will be removed in a future version.\n",
      "Instructions for updating:\n",
      "Colocations handled automatically by placer.\n",
      "WARNING:tensorflow:From D:\\Anaconda3\\lib\\site-packages\\keras\\backend\\tensorflow_backend.py:3445: calling dropout (from tensorflow.python.ops.nn_ops) with keep_prob is deprecated and will be removed in a future version.\n",
      "Instructions for updating:\n",
      "Please use `rate` instead of `keep_prob`. Rate should be set to `rate = 1 - keep_prob`.\n",
      "Starting training \n",
      "WARNING:tensorflow:From D:\\Anaconda3\\lib\\site-packages\\tensorflow\\python\\ops\\math_ops.py:3066: to_int32 (from tensorflow.python.ops.math_ops) is deprecated and will be removed in a future version.\n",
      "Instructions for updating:\n",
      "Use tf.cast instead.\n",
      "Train on 8725 samples, validate on 3740 samples\n",
      "Epoch 1/10\n",
      "8725/8725 [==============================] - 269s 31ms/step - loss: 0.6388 - acc: 0.6389 - val_loss: 0.5007 - val_acc: 0.7495\n",
      "Epoch 2/10\n",
      "8725/8725 [==============================] - 323s 37ms/step - loss: 0.4042 - acc: 0.8312 - val_loss: 0.3330 - val_acc: 0.8701\n",
      "Epoch 3/10\n",
      "8725/8725 [==============================] - 318s 36ms/step - loss: 0.3319 - acc: 0.8737 - val_loss: 0.3292 - val_acc: 0.8741\n",
      "Epoch 4/10\n",
      "8725/8725 [==============================] - 277s 32ms/step - loss: 0.3058 - acc: 0.8852 - val_loss: 0.3288 - val_acc: 0.8767\n",
      "Epoch 5/10\n",
      "8725/8725 [==============================] - 202s 23ms/step - loss: 0.2973 - acc: 0.8888 - val_loss: 0.3048 - val_acc: 0.8885\n",
      "Epoch 6/10\n",
      "8725/8725 [==============================] - 147s 17ms/step - loss: 0.2764 - acc: 0.8982 - val_loss: 0.3128 - val_acc: 0.8813\n",
      "Epoch 7/10\n",
      "8725/8725 [==============================] - 120s 14ms/step - loss: 0.2630 - acc: 0.9035 - val_loss: 0.3003 - val_acc: 0.8885\n",
      "Epoch 8/10\n",
      "8725/8725 [==============================] - 81s 9ms/step - loss: 0.2472 - acc: 0.9099 - val_loss: 0.3154 - val_acc: 0.8848\n",
      "Epoch 9/10\n",
      "8725/8725 [==============================] - 89s 10ms/step - loss: 0.2302 - acc: 0.9169 - val_loss: 0.3114 - val_acc: 0.8861\n",
      "Epoch 10/10\n",
      "8725/8725 [==============================] - 81s 9ms/step - loss: 0.2161 - acc: 0.9202 - val_loss: 0.3357 - val_acc: 0.8813\n",
      "Training finished \n",
      "\n",
      "5343/5343 [==============================] - 6s 1ms/step\n",
      "Evaluation on test data: loss = 0.326371 accuracy = 88.04% \n",
      "\n",
      "_________________________________________________________________\n",
      "Layer (type)                 Output Shape              Param #   \n",
      "=================================================================\n",
      "conv1d_1 (Conv1D)            (None, 157, 16)           144       \n",
      "_________________________________________________________________\n",
      "conv1d_2 (Conv1D)            (None, 142, 32)           8224      \n",
      "_________________________________________________________________\n",
      "conv1d_3 (Conv1D)            (None, 111, 64)           65600     \n",
      "_________________________________________________________________\n",
      "bidirectional_1 (Bidirection (None, 111, 64)           24832     \n",
      "_________________________________________________________________\n",
      "flatten_1 (Flatten)          (None, 7104)              0         \n",
      "_________________________________________________________________\n",
      "dense_1 (Dense)              (None, 100)               710500    \n",
      "_________________________________________________________________\n",
      "dropout_1 (Dropout)          (None, 100)               0         \n",
      "_________________________________________________________________\n",
      "dense_2 (Dense)              (None, 1)                 101       \n",
      "=================================================================\n",
      "Total params: 809,401\n",
      "Trainable params: 809,401\n",
      "Non-trainable params: 0\n",
      "_________________________________________________________________\n",
      "None\n"
     ]
    }
   ],
   "source": [
    "from keras.layers import Dense, Activation, Flatten, Convolution1D, Dropout\n",
    "from sklearn.model_selection import train_test_split\n",
    "import keras as K\n",
    "from keras.layers import LSTM, Bidirectional\n",
    "\n",
    "def creat_model():\n",
    "    init = K.initializers.glorot_uniform()\n",
    "    #scheduler = keras.callbacks.ReduceLROnPlateau(simple_adam, 'max', factor=0.5, patience=3)\n",
    "    model = K.models.Sequential()\n",
    "\n",
    "\n",
    "    #model.add(Convolution1D(nb_filter=64, filter_length=1, input_shape=(500, 10)))\n",
    "    #model.add(Activation('relu'))\n",
    "    #model.add(Flatten())\n",
    "    #model.add(Dropout(0.4))\n",
    "    # 定义卷积层\n",
    "\n",
    "    # 编译模型\n",
    "    model = keras.Sequential()\n",
    "\n",
    "    model.add(Convolution1D(16, 8, strides=1, padding='valid', input_shape=(164, 1), activation=\"relu\"))\n",
    "#    model.add(keras.layers.MaxPool1D(pool_size=2, strides=2, padding=\"valid\"))\n",
    "#    model.add(Dropout(0.2))\n",
    "\n",
    "    model.add(Convolution1D(32, 16, strides=1, padding='valid',activation=\"relu\"))\n",
    "#    model.add(keras.layers.MaxPool1D(pool_size=2, strides=2, padding=\"valid\"))\n",
    "  #  model.add(Dropout(0.2))\n",
    "\n",
    "    model.add(Convolution1D(64, 32, strides=1, padding='valid',activation=\"relu\"))\n",
    " #   model.add(keras.layers.MaxPool1D(pool_size=2, strides=2, padding=\"valid\"))\n",
    " #   model.add(Dropout(0.2))\n",
    "\n",
    "#    model.add(keras.layers.LSTM(32, return_sequences=True))\n",
    "    model.add(Bidirectional(LSTM(32, return_sequences=True)))\n",
    "\n",
    "    model.add(Flatten())\n",
    "\n",
    "    #model.add(K.layers.Dense(units=400 ,kernel_initializer=init, activation='relu'))\n",
    "    #model.add(Dropout(0.2))\n",
    "    model.add(K.layers.Dense(units=100 ,kernel_initializer=init, activation='tanh'))\n",
    "    model.add(Dropout(0.2))\n",
    "    model.add(K.layers.Dense(units=1, kernel_initializer=init, activation='sigmoid'))\n",
    "    model.compile(loss='binary_crossentropy', optimizer=Adam(),metrics=['accuracy'])\n",
    "    return model\n",
    "\n",
    "from sklearn.model_selection import StratifiedKFold\n",
    "\n",
    "def train():\n",
    "    kfold = StratifiedKFold(n_splits=3, shuffle=True, random_state=7)\n",
    "    for train, test in kfold.split(xx, xx_y):\n",
    "        train_x=xx[train]\n",
    "        train_y=xx_y[train]\n",
    "        test_x=xx[test]\n",
    "        test_y=xx_y[test]\n",
    "        train_x, val_x, train_y, val_y = train_test_split(train_x, train_y, train_size=0.8, test_size=0.2, random_state=0)\n",
    "        print(train_x.shape,test_x.shape,val_x.shape)\n",
    "        model = creat_model()\n",
    "        max_epochs = 10\n",
    "        print(\"Starting training \")\n",
    "        h = model.fit(train_x, train_y, epochs=max_epochs, batch_size=128,shuffle=True, verbose=1,callbacks=[history],validation_data=(val_x, val_y))\n",
    "        print(\"Training finished \\n\")\n",
    "\n",
    "        eval = model.evaluate(test_x, test_y, verbose=1)\n",
    "        print(\"Evaluation on test data: loss = %0.6f accuracy = %0.2f%% \\n\" % (eval[0], eval[1] * 100) )\n",
    "        print(model.summary())\n",
    "\n",
    "def train2():\n",
    "    train_x, test_x, train_y, test_y = train_test_split(xx, xx_y, train_size=0.7, test_size=0.3, random_state=0)\n",
    "    train_x, val_x, train_y, val_y = train_test_split(train_x, train_y, train_size=0.7, test_size=0.3, random_state=0)\n",
    "    print(train_x.shape,test_x.shape,val_x.shape)\n",
    "    model = creat_model()\n",
    "    max_epochs = 10\n",
    "    print(\"Starting training \")\n",
    "    h = model.fit(train_x, train_y, epochs=max_epochs, batch_size=128,shuffle=True, verbose=1,callbacks=[history],validation_data=(val_x, val_y))\n",
    "    print(\"Training finished \\n\")\n",
    "\n",
    "    eval = model.evaluate(test_x, test_y, verbose=1)\n",
    "    print(\"Evaluation on test data: loss = %0.6f accuracy = %0.2f%% \\n\" % (eval[0], eval[1] * 100) )\n",
    "    print(model.summary())\n",
    "  #  Z = model.predict(xx)\n",
    "#    pd.DataFrame(Z).to_csv('Z.csv',header=None,index=False)\n",
    "\n",
    "if __name__ == '__main__':\n",
    "#    train()\n",
    "    train2()\n"
   ]
  },
  {
   "cell_type": "code",
   "execution_count": 5,
   "metadata": {
    "scrolled": true
   },
   "outputs": [],
   "source": [
    "history.loss_plot('epoch')\n",
    "\n"
   ]
  },
  {
   "cell_type": "code",
   "execution_count": 5,
   "metadata": {},
   "outputs": [
    {
     "data": {
      "text/plain": [
       "<Figure size 432x288 with 0 Axes>"
      ]
     },
     "metadata": {},
     "output_type": "display_data"
    }
   ],
   "source": []
  },
  {
   "cell_type": "code",
   "execution_count": 6,
   "metadata": {},
   "outputs": [
    {
     "ename": "AttributeError",
     "evalue": "'LossHistory' object has no attribute 'losses'",
     "output_type": "error",
     "traceback": [
      "\u001b[1;31m---------------------------------------------------------------------------\u001b[0m",
      "\u001b[1;31mAttributeError\u001b[0m                            Traceback (most recent call last)",
      "\u001b[1;32m<ipython-input-6-aa1da9555a98>\u001b[0m in \u001b[0;36m<module>\u001b[1;34m\u001b[0m\n\u001b[1;32m----> 1\u001b[1;33m \u001b[0mhistory\u001b[0m\u001b[1;33m.\u001b[0m\u001b[0mloss_plot\u001b[0m\u001b[1;33m(\u001b[0m\u001b[1;34m'epoch'\u001b[0m\u001b[1;33m)\u001b[0m\u001b[1;33m\u001b[0m\u001b[1;33m\u001b[0m\u001b[0m\n\u001b[0m",
      "\u001b[1;32m<ipython-input-1-7aadcee40587>\u001b[0m in \u001b[0;36mloss_plot\u001b[1;34m(self, loss_type)\u001b[0m\n\u001b[0;32m     36\u001b[0m \u001b[1;33m\u001b[0m\u001b[0m\n\u001b[0;32m     37\u001b[0m     \u001b[1;32mdef\u001b[0m \u001b[0mloss_plot\u001b[0m\u001b[1;33m(\u001b[0m\u001b[0mself\u001b[0m\u001b[1;33m,\u001b[0m \u001b[0mloss_type\u001b[0m\u001b[1;33m)\u001b[0m\u001b[1;33m:\u001b[0m\u001b[1;33m\u001b[0m\u001b[1;33m\u001b[0m\u001b[0m\n\u001b[1;32m---> 38\u001b[1;33m         \u001b[0miters\u001b[0m \u001b[1;33m=\u001b[0m \u001b[0mrange\u001b[0m\u001b[1;33m(\u001b[0m\u001b[0mlen\u001b[0m\u001b[1;33m(\u001b[0m\u001b[0mself\u001b[0m\u001b[1;33m.\u001b[0m\u001b[0mlosses\u001b[0m\u001b[1;33m[\u001b[0m\u001b[0mloss_type\u001b[0m\u001b[1;33m]\u001b[0m\u001b[1;33m)\u001b[0m\u001b[1;33m)\u001b[0m\u001b[1;33m\u001b[0m\u001b[1;33m\u001b[0m\u001b[0m\n\u001b[0m\u001b[0;32m     39\u001b[0m         \u001b[0mplt\u001b[0m\u001b[1;33m.\u001b[0m\u001b[0mfigure\u001b[0m\u001b[1;33m(\u001b[0m\u001b[1;33m)\u001b[0m\u001b[1;33m\u001b[0m\u001b[1;33m\u001b[0m\u001b[0m\n\u001b[0;32m     40\u001b[0m         \u001b[1;31m# acc\u001b[0m\u001b[1;33m\u001b[0m\u001b[1;33m\u001b[0m\u001b[1;33m\u001b[0m\u001b[0m\n",
      "\u001b[1;31mAttributeError\u001b[0m: 'LossHistory' object has no attribute 'losses'"
     ]
    }
   ],
   "source": [
    "history.loss_plot('epoch')"
   ]
  },
  {
   "cell_type": "code",
   "execution_count": null,
   "metadata": {},
   "outputs": [],
   "source": []
  }
 ],
 "metadata": {
  "kernelspec": {
   "display_name": "Python 3",
   "language": "python",
   "name": "python3"
  },
  "language_info": {
   "codemirror_mode": {
    "name": "ipython",
    "version": 3
   },
   "file_extension": ".py",
   "mimetype": "text/x-python",
   "name": "python",
   "nbconvert_exporter": "python",
   "pygments_lexer": "ipython3",
   "version": "3.7.3"
  }
 },
 "nbformat": 4,
 "nbformat_minor": 2
}
