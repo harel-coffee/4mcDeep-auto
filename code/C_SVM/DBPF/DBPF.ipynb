{
 "cells": [
  {
   "cell_type": "code",
   "execution_count": 1,
   "metadata": {},
   "outputs": [
    {
     "name": "stdout",
     "output_type": "stream",
     "text": [
      "[['A' 'C' 'G' ... 'T' 'T' 'T']\n",
      " ['A' 'C' 'T' ... 'C' 'G' 'C']\n",
      " ['T' 'G' 'G' ... 'G' 'A' 'T']\n",
      " ...\n",
      " ['C' 'A' 'T' ... 'G' 'C' 'G']\n",
      " ['G' 'A' 'C' ... 'G' 'A' 'G']\n",
      " ['G' 'C' 'T' ... 'A' 'G' 'T']]\n",
      "(3108, 200)\n"
     ]
    }
   ],
   "source": [
    "import pandas as pd\n",
    "import numpy as np\n",
    "import itertools\n",
    "import sys\n",
    "\n",
    "def read_fasta_file():\n",
    "    '''\n",
    "    used for load fasta data and transformd into numpy.array format\n",
    "    '''\n",
    "    fh = open('../C.elegans.txt', 'r')\n",
    "    seq = []\n",
    "    for line in fh:\n",
    "        if line.startswith('>'):\n",
    "            continue\n",
    "        else:\n",
    "            seq.append(line.replace('\\n', '').replace('\\r', ''))\n",
    "    fh.close()\n",
    "    matrix_data = np.array([list(e) for e in seq])\n",
    "    print(matrix_data)\n",
    "    return matrix_data\n",
    "\n",
    "def fetch_singleline_features_withoutN(sequence):\n",
    "    alphabet=\"ACGT\"\n",
    "    k_num=2\n",
    "    two_sequence=[]\n",
    "    for index,data in enumerate(sequence):\n",
    "        if index <(len(sequence)-k_num+1):\n",
    "            two_sequence.append(\"\".join(sequence[index:(index+k_num)]))\n",
    "    parameter=[e for e in itertools.product([0,1],repeat=4)]\n",
    "    record=[0 for x in range(int(pow(4,k_num)))]\n",
    "    matrix=[\"\".join(e) for e in itertools.product(alphabet, repeat=k_num)] # AA AU AC AG UU UC ...\n",
    "    final=[]\n",
    "    for index,data in enumerate(two_sequence):\n",
    "        if data in matrix:\n",
    "            final.extend(parameter[matrix.index(data)])\n",
    "            record[matrix.index(data)]+=1\n",
    "            final.append(record[matrix.index(data)]*1.0/(index+1))\n",
    "    return final\n",
    "\n",
    "matrix_data=read_fasta_file()\n",
    "features_data=[]\n",
    "for index,sequence in enumerate(matrix_data):\n",
    "    features_data.append(fetch_singleline_features_withoutN(sequence))\n",
    "print(np.array(features_data).shape)    \n"
   ]
  },
  {
   "cell_type": "code",
   "execution_count": 3,
   "metadata": {},
   "outputs": [],
   "source": [
    "    sequence=matrix_data[0]\n",
    "    alphabet=\"ACGT\"\n",
    "    k_num=2\n",
    "    two_sequence=[]\n",
    "    for index,data in enumerate(sequence):\n",
    "        if index <(len(sequence)-k_num+1):\n",
    "            two_sequence.append(\"\".join(sequence[index:(index+k_num)]))\n",
    "    parameter=[e for e in itertools.product([0,1],repeat=4)]\n",
    "    record=[0 for x in range(int(pow(4,k_num)))]\n",
    "    matrix=[\"\".join(e) for e in itertools.product(alphabet, repeat=k_num)] # AA AU AC AG UU UC ...\n",
    "    final=[]\n",
    "    for index,data in enumerate(two_sequence):\n",
    "        if data in matrix:\n",
    "            final.extend(parameter[matrix.index(data)])\n",
    "            record[matrix.index(data)]+=1\n",
    "            final.append(record[matrix.index(data)]*1.0/(index+1))    "
   ]
  },
  {
   "cell_type": "code",
   "execution_count": 11,
   "metadata": {},
   "outputs": [
    {
     "name": "stdout",
     "output_type": "stream",
     "text": [
      "(3108, 200)\n"
     ]
    }
   ],
   "source": [
    "sequence"
   ]
  },
  {
   "cell_type": "code",
   "execution_count": 27,
   "metadata": {
    "collapsed": true
   },
   "outputs": [
    {
     "data": {
      "text/plain": [
       "['AC',\n",
       " 'CG',\n",
       " 'GT',\n",
       " 'TG',\n",
       " 'GA',\n",
       " 'AG',\n",
       " 'GC',\n",
       " 'CT',\n",
       " 'TG',\n",
       " 'GA',\n",
       " 'AT',\n",
       " 'TG',\n",
       " 'GA',\n",
       " 'AC',\n",
       " 'CT',\n",
       " 'TC',\n",
       " 'CA',\n",
       " 'AC',\n",
       " 'CA',\n",
       " 'AC',\n",
       " 'CT',\n",
       " 'TT',\n",
       " 'TA',\n",
       " 'AC',\n",
       " 'CT',\n",
       " 'TA',\n",
       " 'AG',\n",
       " 'GG',\n",
       " 'GC',\n",
       " 'CA',\n",
       " 'AT',\n",
       " 'TT',\n",
       " 'TC',\n",
       " 'CC',\n",
       " 'CT',\n",
       " 'TC',\n",
       " 'CG',\n",
       " 'GT',\n",
       " 'TT',\n",
       " 'TT']"
      ]
     },
     "execution_count": 27,
     "metadata": {},
     "output_type": "execute_result"
    }
   ],
   "source": [
    "two_sequence   "
   ]
  },
  {
   "cell_type": "code",
   "execution_count": 26,
   "metadata": {
    "collapsed": true
   },
   "outputs": [
    {
     "name": "stdout",
     "output_type": "stream",
     "text": [
      "[0, 0, 0, 1, 1.0, 0, 1, 1, 0, 0.5, 1, 0, 1, 1, 0.3333333333333333, 1, 1, 1, 0, 0.25, 1, 0, 0, 0, 0.2, 0, 0, 1, 0, 0.16666666666666666, 1, 0, 0, 1, 0.14285714285714285, 0, 1, 1, 1, 0.125, 1, 1, 1, 0, 0.2222222222222222, 1, 0, 0, 0, 0.2, 0, 0, 1, 1, 0.09090909090909091, 1, 1, 1, 0, 0.25, 1, 0, 0, 0, 0.23076923076923078, 0, 0, 0, 1, 0.14285714285714285, 0, 1, 1, 1, 0.13333333333333333, 1, 1, 0, 1, 0.0625, 0, 1, 0, 0, 0.058823529411764705, 0, 0, 0, 1, 0.16666666666666666, 0, 1, 0, 0, 0.10526315789473684, 0, 0, 0, 1, 0.2, 0, 1, 1, 1, 0.14285714285714285, 1, 1, 1, 1, 0.045454545454545456, 1, 1, 0, 0, 0.043478260869565216, 0, 0, 0, 1, 0.20833333333333334, 0, 1, 1, 1, 0.16, 1, 1, 0, 0, 0.07692307692307693, 0, 0, 1, 0, 0.07407407407407407, 1, 0, 1, 0, 0.03571428571428571, 1, 0, 0, 1, 0.06896551724137931, 0, 1, 0, 0, 0.1, 0, 0, 1, 1, 0.06451612903225806, 1, 1, 1, 1, 0.0625, 1, 1, 0, 1, 0.06060606060606061, 0, 1, 0, 1, 0.029411764705882353, 0, 1, 1, 1, 0.14285714285714285, 1, 1, 0, 1, 0.08333333333333333, 0, 1, 1, 0, 0.05405405405405406, 1, 0, 1, 1, 0.05263157894736842, 1, 1, 1, 1, 0.07692307692307693, 1, 1, 1, 1, 0.1]\n"
     ]
    }
   ],
   "source": [
    "print(final)"
   ]
  },
  {
   "cell_type": "code",
   "execution_count": 9,
   "metadata": {},
   "outputs": [
    {
     "name": "stderr",
     "output_type": "stream",
     "text": [
      "IOPub data rate exceeded.\n",
      "The notebook server will temporarily stop sending output\n",
      "to the client in order to avoid crashing it.\n",
      "To change this limit, set the config variable\n",
      "`--NotebookApp.iopub_data_rate_limit`.\n",
      "\n",
      "Current values:\n",
      "NotebookApp.iopub_data_rate_limit=1000000.0 (bytes/sec)\n",
      "NotebookApp.rate_limit_window=3.0 (secs)\n",
      "\n"
     ]
    }
   ],
   "source": [
    "print(features_data)"
   ]
  },
  {
   "cell_type": "code",
   "execution_count": 31,
   "metadata": {},
   "outputs": [
    {
     "ename": "NameError",
     "evalue": "name 'array' is not defined",
     "output_type": "error",
     "traceback": [
      "\u001b[1;31m---------------------------------------------------------------------------\u001b[0m",
      "\u001b[1;31mNameError\u001b[0m                                 Traceback (most recent call last)",
      "\u001b[1;32m<ipython-input-31-fec3bc900505>\u001b[0m in \u001b[0;36m<module>\u001b[1;34m\u001b[0m\n\u001b[1;32m----> 1\u001b[1;33m aa=[[array([-100.,    7.,    1., ...,  -14.,  -14.,    7.]),\n\u001b[0m\u001b[0;32m      2\u001b[0m   array([0., 1., 1., ..., 0., 0., 0.])],\n\u001b[0;32m      3\u001b[0m  [array([   7., -100.,  -14., ...,  -11.,  -23.,   -8.]),\n\u001b[0;32m      4\u001b[0m   array([1., 0., 1., ..., 0., 0., 0.])],\n\u001b[0;32m      5\u001b[0m  [array([   1.,  -14., -100., ...,  -20.,    1.,   -8.]),\n",
      "\u001b[1;31mNameError\u001b[0m: name 'array' is not defined"
     ]
    }
   ],
   "source": [
    "[[array([-100.,    7.,    1., ...,  -14.,  -14.,    7.]),\n",
    "  array([0., 1., 1., ..., 0., 0., 0.])],\n",
    " [array([   7., -100.,  -14., ...,  -11.,  -23.,   -8.]),\n",
    "  array([1., 0., 1., ..., 0., 0., 0.])],\n",
    " [array([   1.,  -14., -100., ...,  -20.,    1.,   -8.]),\n",
    "  array([1., 1., 0., ..., 0., 0., 0.])]]"
   ]
  },
  {
   "cell_type": "code",
   "execution_count": 38,
   "metadata": {},
   "outputs": [
    {
     "data": {
      "text/plain": [
       "([1, 2], [3, 4], [5, 6], [7, 8])"
      ]
     },
     "execution_count": 38,
     "metadata": {},
     "output_type": "execute_result"
    }
   ],
   "source": [
    "qa=[1,2],[3,4],[5,6],[7,8]\n",
    "qa\n"
   ]
  },
  {
   "cell_type": "code",
   "execution_count": null,
   "metadata": {},
   "outputs": [],
   "source": []
  }
 ],
 "metadata": {
  "kernelspec": {
   "display_name": "Python 3",
   "language": "python",
   "name": "python3"
  },
  "language_info": {
   "codemirror_mode": {
    "name": "ipython",
    "version": 3
   },
   "file_extension": ".py",
   "mimetype": "text/x-python",
   "name": "python",
   "nbconvert_exporter": "python",
   "pygments_lexer": "ipython3",
   "version": "3.7.3"
  }
 },
 "nbformat": 4,
 "nbformat_minor": 2
}
