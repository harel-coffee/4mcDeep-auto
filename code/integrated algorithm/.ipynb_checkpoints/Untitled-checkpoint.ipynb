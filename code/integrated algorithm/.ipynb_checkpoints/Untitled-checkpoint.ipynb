{
 "cells": [
  {
   "cell_type": "code",
   "execution_count": 73,
   "metadata": {},
   "outputs": [
    {
     "name": "stderr",
     "output_type": "stream",
     "text": [
      "D:\\Anaconda3\\lib\\site-packages\\ipykernel_launcher.py:14: DataConversionWarning: A column-vector y was passed when a 1d array was expected. Please change the shape of y to (n_samples, ), for example using ravel().\n",
      "  \n",
      "D:\\Anaconda3\\lib\\site-packages\\sklearn\\linear_model\\logistic.py:433: FutureWarning: Default solver will be changed to 'lbfgs' in 0.22. Specify a solver to silence this warning.\n",
      "  FutureWarning)\n",
      "D:\\Anaconda3\\lib\\site-packages\\sklearn\\utils\\validation.py:761: DataConversionWarning: A column-vector y was passed when a 1d array was expected. Please change the shape of y to (n_samples, ), for example using ravel().\n",
      "  y = column_or_1d(y, warn=True)\n",
      "D:\\Anaconda3\\lib\\site-packages\\sklearn\\utils\\validation.py:761: DataConversionWarning: A column-vector y was passed when a 1d array was expected. Please change the shape of y to (n_samples, ), for example using ravel().\n",
      "  y = column_or_1d(y, warn=True)\n",
      "D:\\Anaconda3\\lib\\site-packages\\sklearn\\ensemble\\forest.py:246: FutureWarning: The default value of n_estimators will change from 10 in version 0.20 to 100 in 0.22.\n",
      "  \"10 in version 0.20 to 100 in 0.22.\", FutureWarning)\n",
      "D:\\Anaconda3\\lib\\site-packages\\ipykernel_launcher.py:56: DataConversionWarning: A column-vector y was passed when a 1d array was expected. Please change the shape of y to (n_samples,), for example using ravel().\n"
     ]
    }
   ],
   "source": [
    "import numpy as np\n",
    "import pandas as pd\n",
    "import matplotlib.pyplot as plt\n",
    " \n",
    "X = pd.read_csv('Result.csv')\n",
    "y = pd.read_csv('Y_gai2.csv')\n",
    "\n",
    "from sklearn.model_selection import train_test_split\n",
    "X_train,X_test,y_train,y_test = train_test_split(X,y,train_size=0.7, test_size=0.3,random_state=0)\n",
    " \n",
    "from sklearn.neighbors import KNeighborsClassifier     #K近邻#\n",
    "from sklearn.neighbors import KNeighborsRegressor\n",
    "module = KNeighborsClassifier(n_neighbors=6)\n",
    "module.fit(X_train, y_train)\n",
    "predicted1 = module.predict(X_test)\n",
    "predicted_proba1 = module.predict_proba(X_test)\n",
    "ACC1=metrics.accuracy_score(y_test,predicted1)\n",
    "\n",
    "#from sklearn.linear_model import LinearRegression         # 线性回归 #\n",
    "#module = LinearRegression()\n",
    "#module.fit(X_train, y_train)\n",
    "#predicted2 = module.predict(X_test)\n",
    "#ACC2=metrics.accuracy_score(y_test,predicted2)\n",
    "\n",
    "from sklearn.linear_model import LogisticRegression         # 逻辑回归 #\n",
    "module = LogisticRegression()\n",
    "module.fit(X_train, y_train)\n",
    "predicted3 = module.predict(X_test)\n",
    "predicted_proba3 = module.predict_proba(X_test)\n",
    "ACC3=metrics.accuracy_score(y_test,predicted3)\n",
    "\n",
    "#from sklearn import svm                                #支持向量机#\n",
    "#module = svm.SVC()\n",
    "#module.fit(X_train, y_train)\n",
    "#predicted4 = module.predict(X_test)\n",
    "#predicted_proba4 = module.predict_proba(X_test)\n",
    "#ACC4=metrics.accuracy_score(y_test,predicted4)\n",
    "\n",
    "from sklearn.naive_bayes import GaussianNB            #朴素贝叶斯分类器#\n",
    "module = GaussianNB()\n",
    "module.fit(X_train, y_train)\n",
    "predicted5 = module.predict(X_test)\n",
    "predicted_proba5 = module.predict_proba(X_test)\n",
    "ACC5=metrics.accuracy_score(y_test,predicted5)\n",
    "\n",
    "from sklearn import tree                              #决策树分类器#\n",
    "module = tree.DecisionTreeClassifier(criterion='gini')\n",
    "module.fit(X_train, y_train)\n",
    "predicted6 = module.predict(X_test)\n",
    "predicted_proba6 = module.predict_proba(X_test)\n",
    "ACC6=metrics.accuracy_score(y_test,predicted6)\n",
    "\n",
    "from sklearn.ensemble import RandomForestClassifier  #随机森林#\n",
    "from sklearn.ensemble import RandomForestRegressor\n",
    "module = RandomForestClassifier()\n",
    "module.fit(X_train, y_train)\n",
    "predicted7 = module.predict(X_test)\n",
    "predicted_proba7 = module.predict_proba(X_test)\n",
    "ACC7=metrics.accuracy_score(y_test,predicted7)\n",
    "\n",
    "\n",
    "\n"
   ]
  },
  {
   "cell_type": "code",
   "execution_count": null,
   "metadata": {},
   "outputs": [],
   "source": []
  }
 ],
 "metadata": {
  "kernelspec": {
   "display_name": "Python 3",
   "language": "python",
   "name": "python3"
  },
  "language_info": {
   "codemirror_mode": {
    "name": "ipython",
    "version": 3
   },
   "file_extension": ".py",
   "mimetype": "text/x-python",
   "name": "python",
   "nbconvert_exporter": "python",
   "pygments_lexer": "ipython3",
   "version": "3.7.3"
  }
 },
 "nbformat": 4,
 "nbformat_minor": 2
}
